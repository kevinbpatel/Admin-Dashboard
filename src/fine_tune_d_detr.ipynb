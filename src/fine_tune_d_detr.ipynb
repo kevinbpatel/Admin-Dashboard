{
  "cells": [
    {
      "cell_type": "markdown",
      "id": "C-s0aW8ZM4Uh",
      "metadata": {
        "id": "C-s0aW8ZM4Uh"
      },
      "source": [
        "# jiu-jitsu-auto-scoring\n",
        "*This notebook is a **WIP**!*\n"
      ]
    },
    {
      "cell_type": "code",
      "execution_count": null,
      "id": "6QKnm8bAOHqy",
      "metadata": {
        "colab": {
          "base_uri": "https://localhost:8080/"
        },
        "id": "6QKnm8bAOHqy",
        "outputId": "3c889863-ff8c-4435-f194-96769defa72c"
      },
      "outputs": [
        {
          "output_type": "stream",
          "name": "stdout",
          "text": [
            "fatal: destination path 'model' already exists and is not an empty directory.\n",
            "/content/model\n",
            "Already up to date.\n",
            "Already on '5-try-out-vitpose'\n",
            "Your branch is up to date with 'origin/5-try-out-vitpose'.\n"
          ]
        }
      ],
      "source": [
        "# prompt: mount drive and clone the repository in the current branch, the organization is called jiu-jitsu-auto-scoring and the repository is called model\n",
        "from google.colab import drive\n",
        "\n",
        "BRANCH = \"5-try-out-vitpose\" # Write the name of the branch you're working in here\n",
        "\n",
        "!git clone -q https://github.com/jiu-jitsu-auto-scoring/model.git\n",
        "%cd /content/model\n",
        "!git pull\n",
        "!git checkout $BRANCH"
      ]
    },
    {
      "cell_type": "markdown",
      "source": [
        "#0. Imports, Requirements, etc.\n",
        "Upload the required checkpoint into that folder"
      ],
      "metadata": {
        "id": "VSH5ygNMj-dP"
      },
      "id": "VSH5ygNMj-dP"
    },
    {
      "cell_type": "code",
      "execution_count": 8,
      "id": "tOmDi6A5Oohe",
      "metadata": {
        "id": "tOmDi6A5Oohe",
        "collapsed": true,
        "colab": {
          "base_uri": "https://localhost:8080/"
        },
        "outputId": "ab35f369-64f8-47a8-8d57-fb2acc35b079"
      },
      "outputs": [
        {
          "output_type": "stream",
          "name": "stdout",
          "text": [
            "Drive already mounted at /content/drive; to attempt to forcibly remount, call drive.mount(\"/content/drive\", force_remount=True).\n"
          ]
        }
      ],
      "source": [
        "# Import drive for custom images\n",
        "from google.colab import drive\n",
        "drive.mount('/content/drive')\n"
      ]
    },
    {
      "cell_type": "code",
      "source": [
        "!python run_object_detection.py \\\n",
        "    --model_name_or_path facebook/detr-resnet-50 \\\n",
        "    --dataset_name cppe-5 \\\n",
        "    --do_train true \\\n",
        "    --do_eval true \\\n",
        "    --output_dir detr-finetuned-cppe-5 \\\n",
        "    --num_train_epochs 10 \\\n",
        "    --image_square_size 600 \\\n",
        "    --fp16 true \\\n",
        "    --learning_rate 5e-5 \\\n",
        "    --weight_decay 1e-4 \\\n",
        "    --dataloader_num_workers 4 \\\n",
        "    --per_device_train_batch_size 8 \\\n",
        "    --gradient_accumulation_steps 1 \\\n",
        "    --remove_unused_columns false \\\n",
        "    --eval_do_concat_batches false \\\n",
        "    --ignore_mismatched_sizes true \\\n",
        "    --metric_for_best_model eval_map \\\n",
        "    --greater_is_better true \\\n",
        "    --load_best_model_at_end true \\\n",
        "    --logging_strategy epoch \\\n",
        "    --evaluation_strategy epoch \\\n",
        "    --save_strategy epoch \\\n",
        "    --save_total_limit 2 \\\n",
        "    --push_to_hub false"
      ],
      "metadata": {
        "id": "FEg1KCYbMkSO",
        "outputId": "70ca3377-9147-4867-d09e-05d1cbb366b8",
        "colab": {
          "base_uri": "https://localhost:8080/"
        }
      },
      "id": "FEg1KCYbMkSO",
      "execution_count": 7,
      "outputs": [
        {
          "output_type": "stream",
          "name": "stdout",
          "text": [
            "python3: can't open file '/content/model/run_object_detection.py': [Errno 2] No such file or directory\n"
          ]
        }
      ]
    }
  ],
  "metadata": {
    "colab": {
      "provenance": [],
      "toc_visible": true
    },
    "kernelspec": {
      "display_name": "Python 3",
      "name": "python3"
    },
    "language_info": {
      "name": "python"
    }
  },
  "nbformat": 4,
  "nbformat_minor": 5
}